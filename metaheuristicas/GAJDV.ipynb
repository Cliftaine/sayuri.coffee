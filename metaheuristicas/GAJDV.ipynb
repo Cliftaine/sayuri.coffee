{
  "nbformat": 4,
  "nbformat_minor": 0,
  "metadata": {
    "colab": {
      "name": "Genéticos (2).ipynb",
      "provenance": []
    },
    "kernelspec": {
      "name": "python3",
      "display_name": "Python 3",
      "language": "python"
    }
  },
  "cells": [
    {
      "cell_type": "markdown",
      "metadata": {
        "id": "c62vHAc8wo89"
      },
      "source": [
        "# Algoritmo genético"
      ]
    },
    {
      "cell_type": "code",
      "metadata": {
        "id": "Pm5DI0FgxVB5"
      },
      "source": [
        "from sympy import *\n",
        "import numpy as np\n",
        "import matplotlib.pyplot as plt\n",
        "import copy\n",
        "import math\n",
        "import pandas as pd\n",
        "import random as rnd\n",
        "from random import random, uniform\n",
        "import functools"
      ],
      "execution_count": 498,
      "outputs": []
    },
    {
      "cell_type": "markdown",
      "metadata": {
        "id": "w0JLDktrwqTc"
      },
      "source": [
        "# Métodos de Codificación \n",
        "\n",
        "## Codificación Binaria"
      ]
    },
    {
      "cell_type": "code",
      "metadata": {
        "id": "fDGEADG63NOQ"
      },
      "source": [
        "def int2bin(entero,param={\"numbits\":10}):\n",
        "  #print(param[\"numbits\"])\n",
        "  code=\"{0:0\"+str(param[\"numbits\"])+\"b}\"\n",
        "  Xbin=code.format(int(round(entero)))\n",
        "  return Xbin\n",
        "\n",
        "def bin2int(Binario,param=False):\n",
        "  entero=int(Binario, 2)\n",
        "  return entero"
      ],
      "execution_count": 499,
      "outputs": []
    },
    {
      "cell_type": "code",
      "metadata": {
        "id": "p4lZhyzZ4E11",
        "colab": {
          "base_uri": "https://localhost:8080/",
          "height": 52
        },
        "outputId": "7a92a674-a5e5-441c-8c6c-13500f0506a2"
      },
      "source": [
        "Binario=int2bin(6,param={\"numbits\":10})\n",
        "print(Binario)\n",
        "bin2int(Binario)"
      ],
      "execution_count": 500,
      "outputs": [
        {
          "output_type": "stream",
          "name": "stdout",
          "text": [
            "0000000110\n"
          ]
        },
        {
          "output_type": "execute_result",
          "data": {
            "text/plain": [
              "6"
            ]
          },
          "metadata": {},
          "execution_count": 500
        }
      ]
    },
    {
      "cell_type": "markdown",
      "metadata": {
        "id": "iX0wkfbJ3NkI"
      },
      "source": [
        "## Codificación Binaria para números reales"
      ]
    },
    {
      "cell_type": "code",
      "metadata": {
        "id": "9fRoBUHeyJqj"
      },
      "source": [
        "def BinaryPrecision(Xu,Xl,e):\n",
        "  n=math.log2((Xu-Xl)/e)\n",
        "  return int(n)\n",
        "\n",
        "def Binary2Real(Xu,Xl,n,Xbin):\n",
        "  Xbin=int(Xbin, 2)\n",
        "  Value=Xl+((Xu-Xl)/((2**n)-1))*Xbin\n",
        "  return Value\n",
        "\n",
        "def Real2Binary(Xu,Xl,n,Value):\n",
        "  Xbin=(Value-Xl)/((Xu-Xl)/((2**n)-1))\n",
        "  code=\"{0:0\"+str(n)+\"b}\"\n",
        "  Xbin=code.format(int(round(Xbin)))\n",
        "  return Xbin\n",
        "\n",
        "def codeBinary2Real(Xbin, param={\"Xu\":0,\"Xl\":0,\"n\":0}):\n",
        "  Xbin=int(Xbin, 2)\n",
        "  Value=param[\"Xl\"]+((param[\"Xu\"]-param[\"Xl\"])/((2**param[\"n\"])-1))*Xbin\n",
        "  return [Value]\n",
        "\n",
        "def codepoblacionReal2bin(poblacion,limits):\n",
        "  code=list()\n",
        "  preV=list()\n",
        "  for parameter in limits:\n",
        "    preV.append(BinaryPrecision(parameter[0],parameter[1],parameter[2]))\n",
        "  for individuo in poblacion:\n",
        "    indcode=\"\"\n",
        "    for index,parameter in enumerate(individuo):\n",
        "      indcode=indcode+Real2Binary(limits[index][0],limits[index][1],preV[index],parameter)\n",
        "    code.append(indcode)\n",
        "  return code,preV"
      ],
      "execution_count": 501,
      "outputs": []
    },
    {
      "cell_type": "code",
      "metadata": {
        "id": "oeYOjDI49C5S"
      },
      "source": [
        "def decodificador(population,code,codeParam=False):  \n",
        "  aptitud=list()\n",
        "  for individuo in population:\n",
        "    aptitud.append(code(individuo,codeParam))\n",
        "    \n",
        "  return aptitud"
      ],
      "execution_count": 502,
      "outputs": []
    },
    {
      "cell_type": "code",
      "metadata": {
        "id": "dU_r5gWkyXoa",
        "colab": {
          "base_uri": "https://localhost:8080/",
          "height": 70
        },
        "outputId": "2aed6417-bf85-4d74-a2e8-b7a93bcd31cd"
      },
      "source": [
        "n=BinaryPrecision(10,2,.01)\n",
        "print(n)\n",
        "Nbin=Real2Binary(10,2,n,8)\n",
        "print(Nbin)\n",
        "Binary2Real(10,2,n,Nbin)"
      ],
      "execution_count": 503,
      "outputs": [
        {
          "output_type": "stream",
          "name": "stdout",
          "text": [
            "9\n101111111\n"
          ]
        },
        {
          "output_type": "execute_result",
          "data": {
            "text/plain": [
              "7.996086105675147"
            ]
          },
          "metadata": {},
          "execution_count": 503
        }
      ]
    },
    {
      "cell_type": "code",
      "metadata": {
        "id": "uR7iowfwWLvb"
      },
      "source": [
        "def noCodification(XbinIN, param=False):\n",
        "  return XbinIN"
      ],
      "execution_count": 504,
      "outputs": []
    },
    {
      "cell_type": "markdown",
      "metadata": {
        "id": "TawWiTYrywxO"
      },
      "source": [
        "## Cálculo de la aptitud  de una población "
      ]
    },
    {
      "cell_type": "code",
      "metadata": {
        "id": "WgAt_3zJysQA"
      },
      "source": [
        "def AptitudProporcional(objective,population,code,codeParam=False,case=\"minimo\"):   \n",
        "  aptitud=list()\n",
        "  for individuo in population:\n",
        "    if case == \"minimo\":\n",
        "      aptitud.append(1/objective(code(individuo,codeParam)))\n",
        "    elif case == \"maximo\":\n",
        "      aptitud.append(objective(code(individuo,codeParam)))\n",
        "    else:\n",
        "      aptitud.append(1/objective(code(individuo,codeParam)))\n",
        "  fS=sum(aptitud)\n",
        "  prob=list()\n",
        "  for app in aptitud:\n",
        "    prob.append(float(app/fS))\n",
        "  return aptitud,prob"
      ],
      "execution_count": 505,
      "outputs": []
    },
    {
      "cell_type": "markdown",
      "metadata": {
        "id": "Hc1QiBAc4dpf"
      },
      "source": [
        "Ejemplo:  Problema de la parábola "
      ]
    },
    {
      "cell_type": "code",
      "metadata": {
        "id": "Jsy-O-tY1u7A"
      },
      "source": [
        "def prob_parabola(Parametros):\n",
        "  #definición de los objetivos\n",
        "  x=Symbol('x')\n",
        "  A=x**2\n",
        "  objetivo=A.subs([[x,Parametros[0]]])\n",
        "  \n",
        "  return objetivo"
      ],
      "execution_count": 506,
      "outputs": []
    },
    {
      "cell_type": "code",
      "metadata": {
        "id": "NpdUXcq73EVG",
        "colab": {
          "base_uri": "https://localhost:8080/",
          "height": 107
        },
        "outputId": "ecbc90ff-9410-4c94-f5d9-e7e1b0bef471"
      },
      "source": [
        "populus=[[6],[20],[10],[12]]\n",
        "limits=[[25,0,.5]]\n",
        "binpopulus,n=codepoblacionReal2bin(populus,limits)\n",
        "out=AptitudProporcional(prob_parabola,binpopulus,codeBinary2Real,codeParam={\"Xu\":25,\"Xl\":0,\"n\":5},case=\"minimo\")\n",
        "out=AptitudProporcional(prob_parabola,binpopulus,codeBinary2Real,codeParam={\"Xu\":25,\"Xl\":0,\"n\":5},case=\"maximo\")"
      ],
      "execution_count": 507,
      "outputs": []
    },
    {
      "cell_type": "markdown",
      "metadata": {
        "id": "cb-Ro6sYZq7z"
      },
      "source": [
        "# Técnicas de selección\n",
        "\n"
      ]
    },
    {
      "source": [
        "## Stochastic Universal Sampling (SUS)"
      ],
      "cell_type": "markdown",
      "metadata": {}
    },
    {
      "source": [
        "def SUS(Poblacion,Probabilidades):\n",
        "    #Total Fitness pop\n",
        "    N=2\n",
        "    padres=list()\n",
        "    for i in range(int(len(Probabilidades)/N)):\n",
        "        F=len(Probabilidades)\n",
        "        P=(F/N)/F\n",
        "        start=uniform(0, P)    \n",
        "        points= [start+ i*P for i in range(N)]    \n",
        "        for j in points:\n",
        "            index=0\n",
        "            suma=Probabilidades[index]        \n",
        "            while suma<=j:\n",
        "                index+=1\n",
        "                suma+=Probabilidades[index]                    \n",
        "            padres.append(Poblacion[index])        \n",
        "    return(padres)  \n"
      ],
      "cell_type": "code",
      "metadata": {},
      "execution_count": 508,
      "outputs": []
    },
    {
      "cell_type": "code",
      "execution_count": 509,
      "metadata": {},
      "outputs": [
        {
          "output_type": "execute_result",
          "data": {
            "text/plain": [
              "['01111', '11001', '11001', '01100']"
            ]
          },
          "metadata": {},
          "execution_count": 509
        }
      ],
      "source": [
        " SobranteEstocastico(binpopulus,out[1])"
      ]
    },
    {
      "cell_type": "markdown",
      "metadata": {
        "id": "uaKRuCv5m0Qm"
      },
      "source": [
        "# Técnicas de cruza\n",
        "\n",
        "## Cruza en un punto"
      ]
    },
    {
      "cell_type": "code",
      "metadata": {
        "id": "OSqjTEWFVsZf"
      },
      "source": [
        "def cruza1Punto(padres,param=False):\n",
        "  hijos=list()\n",
        "  i=0\n",
        "  while i<len(padres):\n",
        "    pareja=copy.deepcopy(padres[i:i+2])\n",
        "    cruze=rnd.randint(1,len(padres[i])-1)\n",
        "    hijo1=pareja[0][:cruze]+pareja[1][cruze:]\n",
        "    hijo2=pareja[1][:cruze]+pareja[0][cruze:]\n",
        "    i=i+2\n",
        "    hijos.append(hijo1)\n",
        "    hijos.append(hijo2)\n",
        "  return hijos"
      ],
      "execution_count": 510,
      "outputs": []
    },
    {
      "cell_type": "markdown",
      "metadata": {
        "id": "2LyjromUMErs"
      },
      "source": [
        "## Order crossover "
      ]
    },
    {
      "cell_type": "code",
      "metadata": {
        "id": "_2JtelevMDro"
      },
      "source": [
        "def orderCrossover(padres,param=False): \n",
        "  hijos=list()\n",
        "  i=0\n",
        "  while i<len(padres):\n",
        "    pareja=copy.deepcopy(padres[i:i+2])\n",
        "    i=i+2\n",
        "    hijo1=[None] * len(padres[0])\n",
        "    hijo2=[None] * len(padres[0])\n",
        "    selec=rnd.randint(0,len(padres[0]))\n",
        "    selec2=rnd.randint(0,len(padres[0]))\n",
        "    if selec<selec2:\n",
        "      start=selec\n",
        "      end=selec2\n",
        "    else:\n",
        "      start=selec2\n",
        "      end=selec\n",
        "    hijo1[start:end]=pareja[0][start:end]\n",
        "    hijo2[start:end]=pareja[1][start:end]\n",
        "    for elemento in pareja[0]:\n",
        "      if elemento not in hijo2:\n",
        "        hijo2[hijo2.index(None)]=elemento\n",
        "\n",
        "    for elemento in pareja[1]:\n",
        "      if elemento not in hijo1:\n",
        "        hijo1[hijo1.index(None)]=elemento\n",
        "\n",
        "\n",
        "    hijos.append(hijo1)\n",
        "    hijos.append(hijo2)\n",
        "  return hijos"
      ],
      "execution_count": 511,
      "outputs": []
    },
    {
      "cell_type": "markdown",
      "metadata": {
        "id": "8s9DUoaIug-4"
      },
      "source": [
        "## Mutación"
      ]
    },
    {
      "cell_type": "markdown",
      "metadata": {
        "id": "sVaov7HyL6c4"
      },
      "source": [
        "### Mutación Binaria "
      ]
    },
    {
      "cell_type": "code",
      "metadata": {
        "id": "VxR-j1-qc6Vz"
      },
      "source": [
        "def mutacionBinaria(individuos,parameter={\"umbral\":0.1}):\n",
        "  hijos=copy.deepcopy(individuos)\n",
        "  for elem,individuo in enumerate(individuos):\n",
        "    for index,gen in enumerate(individuo):\n",
        "      if random()<parameter[\"umbral\"]:\n",
        "        mutacion=str(abs(int(gen)-1))\n",
        "        hijos[elem]=individuo[:index]+mutacion+individuo[index+1:]\n",
        "  return hijos"
      ],
      "execution_count": 512,
      "outputs": []
    },
    {
      "cell_type": "markdown",
      "metadata": {
        "id": "zyubo2EB1VoZ"
      },
      "source": [
        "## Algoritmo Genético Completo "
      ]
    },
    {
      "cell_type": "code",
      "metadata": {
        "id": "M2wr9zQ6wkyu"
      },
      "source": [
        "def AGenetico(problema,poblacion,code,NIteracion,Aptitud=AptitudProporcional,\n",
        "              Seleccion=SUS,cruza=cruza1Punto,\n",
        "              mutacion=mutacionBinaria,\n",
        "              SelecParameter=False ,cruzaParameter=False,mutacionParameters=False,\n",
        "              codeParameter=False,case=\"minimo\"):\n",
        "  Historico=list()\n",
        "  for i in range(NIteracion):\n",
        "    aptitud,probabilidad=Aptitud(problema,poblacion,code,codeParameter,case)\n",
        "    Historico.append(aptitud)\n",
        "    padres=Seleccion(poblacion,probabilidad)\n",
        "    hijos=cruza(padres,cruzaParameter)\n",
        "    hijos=mutacion(hijos,mutacionParameters)\n",
        "    poblacion=copy.deepcopy(hijos)\n",
        "  decodePop=decodificador(poblacion,code,codeParameter)\n",
        "  return poblacion,decodePop,Historico\n",
        "  \n",
        "  \n",
        "  "
      ],
      "execution_count": 513,
      "outputs": []
    },
    {
      "cell_type": "markdown",
      "metadata": {
        "id": "csR8wxDaNy1l"
      },
      "source": [
        "## Problemas con números reales "
      ]
    },
    {
      "cell_type": "code",
      "metadata": {
        "id": "OD4aZOHGNKhv"
      },
      "source": [
        "def prob_caja_volumen_restringido(Parametros):\n",
        "  '''Este modelo calcula el área de un prisma cuadrado con un volumen fijo \n",
        "  de 216 milímetros '''\n",
        "  #definición de los objetivos\n",
        "  x=Symbol('x')\n",
        "  A=(864/x)+x**2\n",
        "  objetivo=A.subs([[x,Parametros[0]]])\n",
        "  \n",
        "  return objetivo"
      ],
      "execution_count": 514,
      "outputs": []
    },
    {
      "cell_type": "code",
      "metadata": {
        "id": "8feXhlnROgtt"
      },
      "source": [
        "def prob_elipse(Parametros):\n",
        "  ''' modelo de la elipse'''\n",
        "  #definición de los objetivos\n",
        "  x=Symbol('x')\n",
        "  y=Symbol('y')\n",
        "\n",
        "  A=x**2+y**2\n",
        "  objetivo=A.subs([[x,Parametros[0]],[y,Parametros[1]]])\n",
        "  \n",
        "  return objetivo"
      ],
      "execution_count": 515,
      "outputs": []
    },
    {
      "cell_type": "code",
      "metadata": {
        "id": "oXjUCJaeOzie"
      },
      "source": [
        "def prob_parabola(Parametros):\n",
        "  #definición de los objetivos\n",
        "  x=Symbol('x')\n",
        "  A=x**2\n",
        "  objetivo=A.subs([[x,Parametros[0]]])\n",
        "  \n",
        "  return objetivo"
      ],
      "execution_count": 516,
      "outputs": []
    },
    {
      "cell_type": "code",
      "metadata": {
        "id": "D5B-usiGLEZZ"
      },
      "source": [
        "Dist = pd.DataFrame([[0,1,2,3,1,2,3,4],[1,0,1,2,2,1,2,3],[2,1,0,1,3,2,1,2],\n",
        "                      [3,2,1,0,4,3,2,1],[1,2,3,4,0,1,2,3],[2,1,2,3,1,0,1,2],\n",
        "                      [3,2,1,2,2,1,0,1],[4,3,2,1,3,2,1,0]],\n",
        "                    columns=[\"A\",\"B\",\"C\",\"D\",\"E\",\"F\",\"G\",\"H\"],\n",
        "                    index=[\"A\",\"B\",\"C\",\"D\",\"E\",\"F\",\"G\",\"H\"])\n",
        "  \n",
        "Flow = pd.DataFrame([[0,5,2,4,1,0,0,6],[5,0,3,0,2,2,2,0],[2,3,0,0,0,0,0,5],\n",
        "                      [4,0,0,0,5,2,2,10],[1,2,0,5,0,10,0,0],[0,2,0,2,10,0,5,1],\n",
        "                      [0,2,0,2,0,5,0,10],[6,0,5,10,0,1,10,0]],\n",
        "                    columns=[\"A\",\"B\",\"C\",\"D\",\"E\",\"F\",\"G\",\"H\"],\n",
        "                    index=[\"A\",\"B\",\"C\",\"D\",\"E\",\"F\",\"G\",\"H\"])\n",
        "\n",
        "def QAP(order):\n",
        "  #Definición de las matrices \n",
        "  #Matriz de distancia \n",
        "  order=[order]\n",
        "  New_Dist_DF = Dist.reindex(columns=order[0], index=order[0])\n",
        "  New_Dist_Arr = np.array(New_Dist_DF)\n",
        "  Objfun1_start = pd.DataFrame(New_Dist_Arr*Flow)\n",
        "  Objfun1_start_Arr = np.array(Objfun1_start)\n",
        "\n",
        "\n",
        "  sum_start = sum(sum(Objfun1_start_Arr))\n",
        "  \n",
        "  return sum_start"
      ],
      "execution_count": 517,
      "outputs": []
    },
    {
      "cell_type": "code",
      "metadata": {
        "id": "65_0-8XUYJgn",
        "colab": {
          "base_uri": "https://localhost:8080/",
          "height": 34
        },
        "outputId": "9fea858c-f1e7-4d5f-bf95-19e564722257"
      },
      "source": [
        "QAP([\"B\",\"D\",\"A\",\"E\",\"C\",\"F\",\"G\",\"H\"])"
      ],
      "execution_count": 518,
      "outputs": [
        {
          "output_type": "execute_result",
          "data": {
            "text/plain": [
              "336"
            ]
          },
          "metadata": {},
          "execution_count": 518
        }
      ]
    },
    {
      "cell_type": "code",
      "metadata": {
        "id": "dcXld42cPa7D",
        "colab": {
          "base_uri": "https://localhost:8080/",
          "height": 653
        },
        "outputId": "ac63c2ac-dc6f-4caf-f46e-f3d2b9c650d9"
      },
      "source": [
        "# ejemplo problema de volumen restringido\n",
        "\n",
        "poblacion=[[0.5],[1.0],[1.5],[2],[2.5],[3.0],[3.5],[4.0],[4.5],[5],[5.5],[6.0],[6.5],[7.0],[8.0],[8.5]]\n",
        "limits=[[10,0.5,0.2]]\n",
        "binpopulus,n=codepoblacionReal2bin(poblacion,limits)\n",
        "Poblacion,decodePop,Hist=AGenetico(prob_caja_volumen_restringido,binpopulus,codeBinary2Real,10,\n",
        "          Aptitud=AptitudProporcional,Seleccion=SUS,\n",
        "          cruza=cruza1Punto,mutacion=mutacionBinaria,codeParameter={\"Xu\":10,\"Xl\":0.5,\"n\":n[0]},\n",
        "          SelecParameter=False, cruzaParameter=False,mutacionParameters={\"umbral\":0.01},\n",
        "          case=\"minimo\")\n",
        "print(\"Poblacion final:  \")\n",
        "print(Poblacion)\n",
        "print(decodePop)\n"
      ],
      "execution_count": 519,
      "outputs": [
        {
          "output_type": "stream",
          "name": "stdout",
          "text": [
            "Poblacion final:  \n['10111', '11010', '10111', '11010', '10111', '11010', '11110', '10101', '10101', '10110', '10100', '11010', '11110', '10101', '11110', '10100']\n[[7.548387096774194], [8.467741935483872], [7.548387096774194], [8.467741935483872], [7.548387096774194], [8.467741935483872], [9.693548387096774], [6.935483870967742], [6.935483870967742], [7.241935483870968], [6.629032258064516], [8.467741935483872], [9.693548387096774], [6.935483870967742], [9.693548387096774], [6.629032258064516]]\n"
          ]
        }
      ]
    },
    {
      "cell_type": "code",
      "metadata": {
        "id": "mbCnoZjZJY-x",
        "colab": {
          "base_uri": "https://localhost:8080/",
          "height": 1000
        },
        "outputId": "eac34a65-1b4f-4897-e56f-0ea39d2d677b"
      },
      "source": [
        "#QAP\n",
        "poblacion=[[\"B\",\"D\",\"A\",\"E\",\"C\",\"F\",\"G\",\"H\"],[\"A\",\"B\",\"D\",\"H\",\"F\",\"C\",\"G\",\"E\"],[\"E\",\"C\",\"F\",\"B\",\"D\",\"A\",\"G\",\"H\"],[\"C\",\"G\",\"A\",\"B\",\"D\",\"H\",\"F\",\"E\"],[\"E\",\"C\",\"G\",\"H\",\"F\",\"B\",\"D\",\"A\"],[\"C\",\"G\",\"H\",\"F\",\"E\",\"A\",\"B\",\"D\"]]\n",
        "Poblacion,decodePop,Hist=AGenetico(QAP,poblacion,noCodification,10,\n",
        "          Aptitud=AptitudProporcional,Seleccion=SUS,\n",
        "          cruza=orderCrossover,mutacion=mutacionInsercion,codeParameter=False,\n",
        "          SelecParameter=False, cruzaParameter=False,mutacionParameters={\"umbral\":0.01},\n",
        "          case=\"minimo\")\n",
        "print(\"Poblacion final:  \")\n",
        "print(Poblacion)\n",
        "print(decodePop)\n"
      ],
      "execution_count": 520,
      "outputs": [
        {
          "output_type": "stream",
          "name": "stdout",
          "text": [
            "Poblacion final:  \n[['B', 'A', 'E', 'C', 'D', 'F', 'G', 'H'], ['B', 'A', 'E', 'C', 'D', 'F', 'H', 'G'], ['B', 'A', 'E', 'C', 'D', 'F', 'H', 'G'], ['B', 'A', 'E', 'C', 'D', 'F', 'G', 'H'], ['B', 'A', 'E', 'C', 'D', 'F', 'G', 'H'], ['B', 'A', 'E', 'F', 'D', 'C', 'G', 'H']]\n[['B', 'A', 'E', 'C', 'D', 'F', 'G', 'H'], ['B', 'A', 'E', 'C', 'D', 'F', 'H', 'G'], ['B', 'A', 'E', 'C', 'D', 'F', 'H', 'G'], ['B', 'A', 'E', 'C', 'D', 'F', 'G', 'H'], ['B', 'A', 'E', 'C', 'D', 'F', 'G', 'H'], ['B', 'A', 'E', 'F', 'D', 'C', 'G', 'H']]\n"
          ]
        }
      ]
    },
    {
      "cell_type": "code",
      "metadata": {
        "id": "mZG-szzsXMMD"
      },
      "source": [],
      "execution_count": null,
      "outputs": []
    }
  ]
}