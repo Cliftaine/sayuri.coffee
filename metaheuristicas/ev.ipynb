{
 "metadata": {
  "language_info": {
   "codemirror_mode": {
    "name": "ipython",
    "version": 3
   },
   "file_extension": ".py",
   "mimetype": "text/x-python",
   "name": "python",
   "nbconvert_exporter": "python",
   "pygments_lexer": "ipython3",
   "version": "3.7.4-final"
  },
  "orig_nbformat": 2,
  "kernelspec": {
   "name": "python3",
   "display_name": "Python 3.7.4 64-bit ('base': conda)",
   "metadata": {
    "interpreter": {
     "hash": "a1a98893b2bdd5b8ec16895ec68a79077e7a37de7fca784c12372bed709cfea0"
    }
   }
  }
 },
 "nbformat": 4,
 "nbformat_minor": 2,
 "cells": [
  {
   "cell_type": "code",
   "execution_count": 2,
   "metadata": {},
   "outputs": [
    {
     "output_type": "stream",
     "name": "stdout",
     "text": [
      "GENERATION: 1\n"
     ]
    },
    {
     "output_type": "error",
     "ename": "AttributeError",
     "evalue": "'range' object has no attribute 'remove'",
     "traceback": [
      "\u001b[0;31m---------------------------------------------------------------------------\u001b[0m",
      "\u001b[0;31mAttributeError\u001b[0m                            Traceback (most recent call last)",
      "\u001b[0;32m<ipython-input-2-588b4d026f6b>\u001b[0m in \u001b[0;36m<module>\u001b[0;34m\u001b[0m\n\u001b[1;32m    139\u001b[0m \u001b[0;31m#--- RUN ----------------------------------------------------------------------+\u001b[0m\u001b[0;34m\u001b[0m\u001b[0;34m\u001b[0m\u001b[0;34m\u001b[0m\u001b[0m\n\u001b[1;32m    140\u001b[0m \u001b[0;34m\u001b[0m\u001b[0m\n\u001b[0;32m--> 141\u001b[0;31m \u001b[0mmain\u001b[0m\u001b[0;34m(\u001b[0m\u001b[0mcost_func\u001b[0m\u001b[0;34m,\u001b[0m \u001b[0mbounds\u001b[0m\u001b[0;34m,\u001b[0m \u001b[0mpopsize\u001b[0m\u001b[0;34m,\u001b[0m \u001b[0mmutate\u001b[0m\u001b[0;34m,\u001b[0m \u001b[0mrecombination\u001b[0m\u001b[0;34m,\u001b[0m \u001b[0mmaxiter\u001b[0m\u001b[0;34m)\u001b[0m\u001b[0;34m\u001b[0m\u001b[0;34m\u001b[0m\u001b[0m\n\u001b[0m",
      "\u001b[0;32m<ipython-input-2-588b4d026f6b>\u001b[0m in \u001b[0;36mmain\u001b[0;34m(cost_func, bounds, popsize, mutate, recombination, maxiter)\u001b[0m\n\u001b[1;32m     76\u001b[0m             \u001b[0;31m# select three random vector index positions [0, popsize), not including current vector (j)\u001b[0m\u001b[0;34m\u001b[0m\u001b[0;34m\u001b[0m\u001b[0;34m\u001b[0m\u001b[0m\n\u001b[1;32m     77\u001b[0m             \u001b[0mcanidates\u001b[0m \u001b[0;34m=\u001b[0m \u001b[0mrange\u001b[0m\u001b[0;34m(\u001b[0m\u001b[0;36m0\u001b[0m\u001b[0;34m,\u001b[0m\u001b[0mpopsize\u001b[0m\u001b[0;34m)\u001b[0m\u001b[0;34m\u001b[0m\u001b[0;34m\u001b[0m\u001b[0m\n\u001b[0;32m---> 78\u001b[0;31m             \u001b[0mcanidates\u001b[0m\u001b[0;34m.\u001b[0m\u001b[0mremove\u001b[0m\u001b[0;34m(\u001b[0m\u001b[0mj\u001b[0m\u001b[0;34m)\u001b[0m\u001b[0;34m\u001b[0m\u001b[0;34m\u001b[0m\u001b[0m\n\u001b[0m\u001b[1;32m     79\u001b[0m             \u001b[0mrandom_index\u001b[0m \u001b[0;34m=\u001b[0m \u001b[0mrandom\u001b[0m\u001b[0;34m.\u001b[0m\u001b[0msample\u001b[0m\u001b[0;34m(\u001b[0m\u001b[0mcanidates\u001b[0m\u001b[0;34m,\u001b[0m \u001b[0;36m3\u001b[0m\u001b[0;34m)\u001b[0m\u001b[0;34m\u001b[0m\u001b[0;34m\u001b[0m\u001b[0m\n\u001b[1;32m     80\u001b[0m \u001b[0;34m\u001b[0m\u001b[0m\n",
      "\u001b[0;31mAttributeError\u001b[0m: 'range' object has no attribute 'remove'"
     ]
    }
   ],
   "source": [
    "#------------------------------------------------------------------------------+\n",
    "#\n",
    "#   Nathan A. Rooy\n",
    "#   A simple, bare bones, implementation of differential evolution with Python\n",
    "#   August, 2017\n",
    "#\n",
    "#------------------------------------------------------------------------------+\n",
    "\n",
    "#--- IMPORT DEPENDENCIES ------------------------------------------------------+\n",
    "\n",
    "import random\n",
    "\n",
    "#--- EXAMPLE COST FUNCTIONS ---------------------------------------------------+\n",
    "\n",
    "def func1(x):\n",
    "    # Sphere function, use any bounds, f(0,...,0)=0\n",
    "    return sum([x[i]**2 for i in range(len(x))])\n",
    "\n",
    "def func2(x):\n",
    "    # Beale's function, use bounds=[(-4.5, 4.5),(-4.5, 4.5)], f(3,0.5)=0.\n",
    "    term1 = (1.500 - x[0] + x[0]*x[1])**2\n",
    "    term2 = (2.250 - x[0] + x[0]*x[1]**2)**2\n",
    "    term3 = (2.625 - x[0] + x[0]*x[1]**3)**2\n",
    "    return term1 + term2 + term3\n",
    "\n",
    "#--- FUNCTIONS ----------------------------------------------------------------+\n",
    "\n",
    "\n",
    "def ensure_bounds(vec, bounds):\n",
    "\n",
    "    vec_new = []\n",
    "    # cycle through each variable in vector \n",
    "    for i in range(len(vec)):\n",
    "\n",
    "        # variable exceedes the minimum boundary\n",
    "        if vec[i] < bounds[i][0]:\n",
    "            vec_new.append(bounds[i][0])\n",
    "\n",
    "        # variable exceedes the maximum boundary\n",
    "        if vec[i] > bounds[i][1]:\n",
    "            vec_new.append(bounds[i][1])\n",
    "\n",
    "        # the variable is fine\n",
    "        if bounds[i][0] <= vec[i] <= bounds[i][1]:\n",
    "            vec_new.append(vec[i])\n",
    "        \n",
    "    return vec_new\n",
    "\n",
    "\n",
    "#--- MAIN ---------------------------------------------------------------------+\n",
    "\n",
    "def main(cost_func, bounds, popsize, mutate, recombination, maxiter):\n",
    "\n",
    "    #--- INITIALIZE A POPULATION (step #1) ----------------+\n",
    "    \n",
    "    population = []\n",
    "    for i in range(0,popsize):\n",
    "        indv = []\n",
    "        for j in range(len(bounds)):\n",
    "            indv.append(random.uniform(bounds[j][0],bounds[j][1]))\n",
    "        population.append(indv)\n",
    "            \n",
    "    #--- SOLVE --------------------------------------------+\n",
    "\n",
    "    # cycle through each generation (step #2)\n",
    "    for i in range(1,maxiter+1):\n",
    "        print ('GENERATION:',i)\n",
    "\n",
    "        gen_scores = [] # score keeping\n",
    "\n",
    "        # cycle through each individual in the population\n",
    "        for j in range(0, popsize):\n",
    "\n",
    "            #--- MUTATION (step #3.A) ---------------------+\n",
    "            \n",
    "            # select three random vector index positions [0, popsize), not including current vector (j)\n",
    "            canidates = range(0,popsize)\n",
    "            canidates.remove(j)\n",
    "            random_index = random.sample(canidates, 3)\n",
    "\n",
    "            x_1 = population[random_index[0]]\n",
    "            x_2 = population[random_index[1]]\n",
    "            x_3 = population[random_index[2]]\n",
    "            x_t = population[j]     # target individual\n",
    "\n",
    "            # subtract x3 from x2, and create a new vector (x_diff)\n",
    "            x_diff = [x_2_i - x_3_i for x_2_i, x_3_i in zip(x_2, x_3)]\n",
    "\n",
    "            # multiply x_diff by the mutation factor (F) and add to x_1\n",
    "            v_donor = [x_1_i + mutate * x_diff_i for x_1_i, x_diff_i in zip(x_1, x_diff)]\n",
    "            v_donor = ensure_bounds(v_donor, bounds)\n",
    "\n",
    "            #--- RECOMBINATION (step #3.B) ----------------+\n",
    "\n",
    "            v_trial = []\n",
    "            for k in range(len(x_t)):\n",
    "                crossover = random.random()\n",
    "                if crossover <= recombination:\n",
    "                    v_trial.append(v_donor[k])\n",
    "\n",
    "                else:\n",
    "                    v_trial.append(x_t[k])\n",
    "                    \n",
    "            #--- GREEDY SELECTION (step #3.C) -------------+\n",
    "\n",
    "            score_trial  = cost_func(v_trial)\n",
    "            score_target = cost_func(x_t)\n",
    "\n",
    "            if score_trial < score_target:\n",
    "                population[j] = v_trial\n",
    "                gen_scores.append(score_trial)\n",
    "                print ('   >',score_trial, v_trial)\n",
    "\n",
    "            else:\n",
    "                print ('   >',score_target, x_t)\n",
    "                gen_scores.append(score_target)\n",
    "\n",
    "        #--- SCORE KEEPING --------------------------------+\n",
    "\n",
    "        gen_avg = sum(gen_scores) / popsize                         # current generation avg. fitness\n",
    "        gen_best = min(gen_scores)                                  # fitness of best individual\n",
    "        gen_sol = population[gen_scores.index(min(gen_scores))]     # solution of best individual\n",
    "\n",
    "        print ('      > GENERATION AVERAGE:',gen_avg)\n",
    "        print ('      > GENERATION BEST:',gen_best)\n",
    "        print ('         > BEST SOLUTION:',gen_sol,'\\n')\n",
    "\n",
    "    return gen_sol\n",
    "\n",
    "#--- CONSTANTS ----------------------------------------------------------------+\n",
    "\n",
    "cost_func = func1                   # Cost function\n",
    "bounds = [(-1,1),(-1,1)]            # Bounds [(x1_min, x1_max), (x2_min, x2_max),...]\n",
    "popsize = 10                        # Population size, must be >= 4\n",
    "mutate = 0.5                        # Mutation factor [0,2]\n",
    "recombination = 0.7                 # Recombination rate [0,1]\n",
    "maxiter = 20                        # Max number of generations (maxiter)\n",
    "\n",
    "#--- RUN ----------------------------------------------------------------------+\n",
    "\n",
    "main(cost_func, bounds, popsize, mutate, recombination, maxiter)"
   ]
  },
  {
   "cell_type": "code",
   "execution_count": null,
   "metadata": {},
   "outputs": [],
   "source": [
    "def fobj(x):\n",
    "  value = 0\n",
    "  for i in range(len(x)):\n",
    "      value += x[i]**2\n",
    "  return value / len(x)"
   ]
  },
  {
   "cell_type": "code",
   "execution_count": 7,
   "metadata": {},
   "outputs": [],
   "source": [
    "import numpy as np\n",
    "\n",
    "def de(fobj, bounds, mut=0.8, crossp=0.7, popsize=20, its=1000):\n",
    "    dimensions = len(bounds)\n",
    "    pop = np.random.rand(popsize, dimensions)\n",
    "    min_b, max_b = np.asarray(bounds).T\n",
    "    diff = np.fabs(min_b - max_b)\n",
    "    pop_denorm = min_b + pop * diff\n",
    "    fitness = np.asarray([fobj(ind) for ind in pop_denorm])\n",
    "    best_idx = np.argmin(fitness)\n",
    "    best = pop_denorm[best_idx]\n",
    "    for i in range(its):\n",
    "        for j in range(popsize):\n",
    "            idxs = [idx for idx in range(popsize) if idx != j]\n",
    "            a, b, c = pop[np.random.choice(idxs, 3, replace = False)]\n",
    "            mutant = np.clip(a + mut * (b - c), 0, 1)\n",
    "            cross_points = np.random.rand(dimensions) < crossp\n",
    "            if not np.any(cross_points):\n",
    "                cross_points[np.random.randint(0, dimensions)] = True\n",
    "            trial = np.where(cross_points, mutant, pop[j])\n",
    "            trial_denorm = min_b + trial * diff\n",
    "            f = fobj(trial_denorm)\n",
    "            if f < fitness[j]:\n",
    "                fitness[j] = f\n",
    "                \n",
    "                pop[j] = trial\n",
    "                if f < fitness[best_idx]:\n",
    "                    best_idx = j\n",
    "                    best = trial_denorm\n",
    "        yield best, fitness[best_idx]"
   ]
  },
  {
   "cell_type": "code",
   "execution_count": 8,
   "metadata": {},
   "outputs": [],
   "source": [
    "fobj = lambda x: sum(x**2)/len(x)"
   ]
  },
  {
   "cell_type": "code",
   "execution_count": 9,
   "metadata": {},
   "outputs": [],
   "source": [
    "it = list(de(lambda x: x**2, bounds=[(-100, 100)]))"
   ]
  },
  {
   "cell_type": "code",
   "execution_count": 10,
   "metadata": {},
   "outputs": [
    {
     "output_type": "stream",
     "name": "stdout",
     "text": [
      "(array([0.]), array([0.]))\n"
     ]
    }
   ],
   "source": [
    "print(it[-1])"
   ]
  },
  {
   "cell_type": "code",
   "execution_count": 4,
   "metadata": {},
   "outputs": [],
   "source": [
    "fobj = lambda x: sum(x**2)/len(x)"
   ]
  },
  {
   "cell_type": "code",
   "execution_count": 12,
   "metadata": {},
   "outputs": [
    {
     "output_type": "error",
     "ename": "IndexError",
     "evalue": "index 57 is out of bounds for axis 0 with size 20",
     "traceback": [
      "\u001b[0;31m---------------------------------------------------------------------------\u001b[0m",
      "\u001b[0;31mIndexError\u001b[0m                                Traceback (most recent call last)",
      "\u001b[0;32m<ipython-input-12-1596241cd1f7>\u001b[0m in \u001b[0;36m<module>\u001b[0;34m\u001b[0m\n\u001b[0;32m----> 1\u001b[0;31m \u001b[0mresult\u001b[0m \u001b[0;34m=\u001b[0m \u001b[0mlist\u001b[0m\u001b[0;34m(\u001b[0m\u001b[0mde\u001b[0m\u001b[0;34m(\u001b[0m\u001b[0;32mlambda\u001b[0m \u001b[0mx\u001b[0m\u001b[0;34m:\u001b[0m \u001b[0mx\u001b[0m\u001b[0;34m**\u001b[0m\u001b[0;36m2\u001b[0m \u001b[0;34m/\u001b[0m \u001b[0mlen\u001b[0m\u001b[0;34m(\u001b[0m\u001b[0mx\u001b[0m\u001b[0;34m)\u001b[0m\u001b[0;34m,\u001b[0m \u001b[0mbounds\u001b[0m\u001b[0;34m=\u001b[0m\u001b[0;34m[\u001b[0m\u001b[0;34m(\u001b[0m\u001b[0;34m-\u001b[0m\u001b[0;36m100\u001b[0m\u001b[0;34m,\u001b[0m \u001b[0;36m100\u001b[0m\u001b[0;34m)\u001b[0m\u001b[0;34m]\u001b[0m \u001b[0;34m*\u001b[0m \u001b[0;36m32\u001b[0m\u001b[0;34m,\u001b[0m \u001b[0mits\u001b[0m\u001b[0;34m=\u001b[0m\u001b[0;36m3000\u001b[0m\u001b[0;34m)\u001b[0m\u001b[0;34m)\u001b[0m\u001b[0;34m\u001b[0m\u001b[0;34m\u001b[0m\u001b[0m\n\u001b[0m",
      "\u001b[0;32m<ipython-input-7-4f3bd7461e62>\u001b[0m in \u001b[0;36mde\u001b[0;34m(fobj, bounds, mut, crossp, popsize, its)\u001b[0m\n\u001b[1;32m      9\u001b[0m     \u001b[0mfitness\u001b[0m \u001b[0;34m=\u001b[0m \u001b[0mnp\u001b[0m\u001b[0;34m.\u001b[0m\u001b[0masarray\u001b[0m\u001b[0;34m(\u001b[0m\u001b[0;34m[\u001b[0m\u001b[0mfobj\u001b[0m\u001b[0;34m(\u001b[0m\u001b[0mind\u001b[0m\u001b[0;34m)\u001b[0m \u001b[0;32mfor\u001b[0m \u001b[0mind\u001b[0m \u001b[0;32min\u001b[0m \u001b[0mpop_denorm\u001b[0m\u001b[0;34m]\u001b[0m\u001b[0;34m)\u001b[0m\u001b[0;34m\u001b[0m\u001b[0;34m\u001b[0m\u001b[0m\n\u001b[1;32m     10\u001b[0m     \u001b[0mbest_idx\u001b[0m \u001b[0;34m=\u001b[0m \u001b[0mnp\u001b[0m\u001b[0;34m.\u001b[0m\u001b[0margmin\u001b[0m\u001b[0;34m(\u001b[0m\u001b[0mfitness\u001b[0m\u001b[0;34m)\u001b[0m\u001b[0;34m\u001b[0m\u001b[0;34m\u001b[0m\u001b[0m\n\u001b[0;32m---> 11\u001b[0;31m     \u001b[0mbest\u001b[0m \u001b[0;34m=\u001b[0m \u001b[0mpop_denorm\u001b[0m\u001b[0;34m[\u001b[0m\u001b[0mbest_idx\u001b[0m\u001b[0;34m]\u001b[0m\u001b[0;34m\u001b[0m\u001b[0;34m\u001b[0m\u001b[0m\n\u001b[0m\u001b[1;32m     12\u001b[0m     \u001b[0;32mfor\u001b[0m \u001b[0mi\u001b[0m \u001b[0;32min\u001b[0m \u001b[0mrange\u001b[0m\u001b[0;34m(\u001b[0m\u001b[0mits\u001b[0m\u001b[0;34m)\u001b[0m\u001b[0;34m:\u001b[0m\u001b[0;34m\u001b[0m\u001b[0;34m\u001b[0m\u001b[0m\n\u001b[1;32m     13\u001b[0m         \u001b[0;32mfor\u001b[0m \u001b[0mj\u001b[0m \u001b[0;32min\u001b[0m \u001b[0mrange\u001b[0m\u001b[0;34m(\u001b[0m\u001b[0mpopsize\u001b[0m\u001b[0;34m)\u001b[0m\u001b[0;34m:\u001b[0m\u001b[0;34m\u001b[0m\u001b[0;34m\u001b[0m\u001b[0m\n",
      "\u001b[0;31mIndexError\u001b[0m: index 57 is out of bounds for axis 0 with size 20"
     ]
    }
   ],
   "source": [
    "result = list(de(lambda x: x**2 / len(x), bounds=[(-100, 100)] * 32, its=3000))"
   ]
  },
  {
   "cell_type": "code",
   "execution_count": null,
   "metadata": {},
   "outputs": [],
   "source": []
  },
  {
   "cell_type": "code",
   "execution_count": 11,
   "metadata": {},
   "outputs": [
    {
     "output_type": "error",
     "ename": "NameError",
     "evalue": "name 'result' is not defined",
     "traceback": [
      "\u001b[0;31m---------------------------------------------------------------------------\u001b[0m",
      "\u001b[0;31mNameError\u001b[0m                                 Traceback (most recent call last)",
      "\u001b[0;32m<ipython-input-11-695e224b0e32>\u001b[0m in \u001b[0;36m<module>\u001b[0;34m\u001b[0m\n\u001b[1;32m      1\u001b[0m \u001b[0;32mimport\u001b[0m \u001b[0mmatplotlib\u001b[0m\u001b[0;34m.\u001b[0m\u001b[0mpyplot\u001b[0m \u001b[0;32mas\u001b[0m \u001b[0mplt\u001b[0m\u001b[0;34m\u001b[0m\u001b[0;34m\u001b[0m\u001b[0m\n\u001b[0;32m----> 2\u001b[0;31m \u001b[0mx\u001b[0m\u001b[0;34m,\u001b[0m \u001b[0mf\u001b[0m \u001b[0;34m=\u001b[0m \u001b[0mzip\u001b[0m\u001b[0;34m(\u001b[0m\u001b[0;34m*\u001b[0m\u001b[0mresult\u001b[0m\u001b[0;34m)\u001b[0m\u001b[0;34m\u001b[0m\u001b[0;34m\u001b[0m\u001b[0m\n\u001b[0m\u001b[1;32m      3\u001b[0m \u001b[0mplt\u001b[0m\u001b[0;34m.\u001b[0m\u001b[0mplot\u001b[0m\u001b[0;34m(\u001b[0m\u001b[0mf\u001b[0m\u001b[0;34m)\u001b[0m\u001b[0;34m\u001b[0m\u001b[0;34m\u001b[0m\u001b[0m\n",
      "\u001b[0;31mNameError\u001b[0m: name 'result' is not defined"
     ]
    }
   ],
   "source": [
    "import matplotlib.pyplot as plt\n",
    "x, f = zip(*result)\n",
    "plt.plot(f)"
   ]
  },
  {
   "cell_type": "code",
   "execution_count": null,
   "metadata": {},
   "outputs": [],
   "source": [
    "import matplotlib.animation as animation\n",
    "from IPython.display import HTML\n",
    "\n",
    "result = list(de2(rmse, [(-5, 5)] * 6, its=2000))\n",
    "\n",
    "fig, ax = plt.subplots()\n",
    "\n",
    "def animate(i):\n",
    "    ax.clear()\n",
    "    ax.set_ylim([-2, 2])\n",
    "    ax.scatter(x, y)\n",
    "    pop, fit, idx = result[i]\n",
    "    for ind in pop:\n",
    "        data = fmodel(x, ind)\n",
    "        ax.plot(x, data, alpha=0.3)"
   ]
  }
 ]
}