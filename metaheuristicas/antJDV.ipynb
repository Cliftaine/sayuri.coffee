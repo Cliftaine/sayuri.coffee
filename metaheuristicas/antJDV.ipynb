{
 "metadata": {
  "language_info": {
   "codemirror_mode": {
    "name": "ipython",
    "version": 3
   },
   "file_extension": ".py",
   "mimetype": "text/x-python",
   "name": "python",
   "nbconvert_exporter": "python",
   "pygments_lexer": "ipython3",
   "version": "3.7.6-final"
  },
  "orig_nbformat": 2,
  "kernelspec": {
   "name": "python3",
   "display_name": "Python 3",
   "language": "python"
  }
 },
 "nbformat": 4,
 "nbformat_minor": 2,
 "cells": [
  {
   "cell_type": "code",
   "execution_count": 111,
   "metadata": {},
   "outputs": [],
   "source": [
    "from sympy import *\n",
    "import numpy as np\n",
    "import matplotlib.pyplot as plt\n",
    "import copy\n",
    "from mpl_toolkits.mplot3d import axes3d, Axes3D\n",
    "from matplotlib import cm\n",
    "import math\n",
    "import pandas as pd\n",
    "import random"
   ]
  },
  {
   "source": [
    "# Algoritmos de Optimización\n"
   ],
   "cell_type": "markdown",
   "metadata": {}
  },
  {
   "source": [
    "# Ant Colony Optimization"
   ],
   "cell_type": "markdown",
   "metadata": {}
  },
  {
   "source": [
    "### ACO"
   ],
   "cell_type": "markdown",
   "metadata": {}
  },
  {
   "cell_type": "code",
   "execution_count": 112,
   "metadata": {},
   "outputs": [],
   "source": [
    "def ncamino(ciudades, costos, feromonas):\n",
    "    \n",
    "    aux = copy.copy(ciudades)\n",
    "    ruta = []\n",
    "    pos = random.choice(aux)\n",
    "    poso = pos\n",
    "    ruta.append(pos)\n",
    "    aux.remove(pos)\n",
    "    suma = 0\n",
    "    \n",
    "    #Creamos un camino para una hormiga\n",
    "    while len(ruta) < len(ciudades):\n",
    "        \n",
    "        prob = list()\n",
    "                \n",
    "        if len(aux) == 1:\n",
    "            ruta.append(aux[0])\n",
    "        else:\n",
    "            #Sumamos los puntos vecinos\n",
    "            for i in aux:\n",
    "                suma += (feromonas[pos][i] * (1/costos[pos][i]))\n",
    "                \n",
    "            #Obtenemos probabilidad de cada punto vecino\n",
    "            for i in aux:\n",
    "                prob.append((feromonas[pos][i] * (1/costos[pos][i]))/suma)  \n",
    "            \n",
    "            #Obtenemos suma de cada punto y lo ordenamos\n",
    "            union = zip(aux, prob)\n",
    "            cdsort = list(union)\n",
    "            cdsort = sorted(cdsort, key = lambda x: x[1]) \n",
    "            cdsort, prob = zip(*cdsort)\n",
    "            sumas = np.cumsum(prob)\n",
    "            \n",
    "            #Seleccionamos un punto con un numero aleatorio\n",
    "            sel= random.uniform(0,sumas[-1])\n",
    "            c = True\n",
    "            i = 0\n",
    "            while c:\n",
    "                if sel < sumas[i]:\n",
    "                    pos = i\n",
    "                    c = False\n",
    "                i += 1\n",
    "            \n",
    "            #Agregamos el punto como parte del camino\n",
    "            pos = cdsort[pos]\n",
    "            ruta.append(pos)\n",
    "            aux.remove(pos)\n",
    "            \n",
    "    ruta.append(poso)\n",
    "\n",
    "    #Calculamos tau\n",
    "    tau = 0    \n",
    "    for i in range(len(ruta)-1):\n",
    "        tau += costos[ruta[i]][ruta[i+1]]\n",
    "\n",
    "    return ruta, tau"
   ]
  },
  {
   "cell_type": "code",
   "execution_count": 113,
   "metadata": {},
   "outputs": [],
   "source": [
    "def ACO (costos, vap, ants, imax):\n",
    "    \n",
    "    #Inicializacion    \n",
    "    col, fil= costos.shape\n",
    "    feromonas = np.ones_like(costos).astype(float)        \n",
    "    np.fill_diagonal(feromonas,0)\n",
    "    ciudades = list(range(len(costos)))\n",
    "    iteracion = 0    \n",
    "    while iteracion <= imax:\n",
    "        iteracion += 1        \n",
    "        caminos = np.zeros((len(costos), (len(costos)+1))).astype(float)\n",
    "        tau = np.zeros((len(costos))).astype(float)         \n",
    "        for i in range(ants):\n",
    "            #Las hormigas buscan un camino\n",
    "            caminos[i], tau[i] = ncamino(\n",
    "                                                    copy.copy(ciudades), \n",
    "                                                    copy.copy(costos), \n",
    "                                                    copy.copy(feromonas)\n",
    "                                                    )        \n",
    "        #Actualizamos la matriz de feromonas\n",
    "        for i in range(caminos.shape[0]-1):\n",
    "            for j in range(caminos.shape[1]-2):\n",
    "                aux = feromonas[int(caminos[i][j])][int(caminos[i][j+1])]\n",
    "                #Calculamos el nuevo valor de la feromona\n",
    "                feromonas[int(caminos[i][j])][int(caminos[i][j+1])] = vap*aux + (1/tau[i])  \n",
    "    return caminos"
   ]
  },
  {
   "cell_type": "code",
   "execution_count": 114,
   "metadata": {},
   "outputs": [
    {
     "output_type": "stream",
     "name": "stdout",
     "text": [
      "Finales:\n[[0. 1. 3. 2. 0.]\n [3. 2. 1. 0. 3.]\n [3. 2. 1. 0. 3.]\n [0. 1. 3. 2. 0.]]\n"
     ]
    }
   ],
   "source": [
    "lDist = [[0,20,42,35],\n",
    "        [20,0,30,34],\n",
    "        [42,30,0,12],\n",
    "        [35,34,12,0]]\n",
    "\n",
    "Dist= np.array(lDist)\n",
    "        \n",
    "caminos = ACO(Dist, 0.5, 4, 50)\n",
    "\n",
    "print('Finales:')\n",
    "print(caminos)"
   ]
  }
 ]
}