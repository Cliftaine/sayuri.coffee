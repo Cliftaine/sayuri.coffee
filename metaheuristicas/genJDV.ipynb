{
 "metadata": {
  "language_info": {
   "codemirror_mode": {
    "name": "ipython",
    "version": 3
   },
   "file_extension": ".py",
   "mimetype": "text/x-python",
   "name": "python",
   "nbconvert_exporter": "python",
   "pygments_lexer": "ipython3",
   "version": "3.6.10-final"
  },
  "orig_nbformat": 2,
  "kernelspec": {
   "name": "python3",
   "display_name": "Python 3.6.10 64-bit",
   "metadata": {
    "interpreter": {
     "hash": "3ad217a095e0b0b2e6a6420fbc330187eb204bc13ab824d27ee7fdc9ecb8d848"
    }
   }
  }
 },
 "nbformat": 4,
 "nbformat_minor": 2,
 "cells": [
  {
   "cell_type": "code",
   "execution_count": 109,
   "metadata": {},
   "outputs": [],
   "source": [
    "from sympy import *\n",
    "import numpy as np\n",
    "import matplotlib.pyplot as plt\n",
    "import copy\n",
    "from mpl_toolkits.mplot3d import axes3d, Axes3D\n",
    "from matplotlib import cm\n",
    "import math\n",
    "import pandas as pd\n",
    "import random as rnd\n",
    "from random import random\n",
    "import functools"
   ]
  },
  {
   "source": [
    "# Algoritmo Genético\n"
   ],
   "cell_type": "markdown",
   "metadata": {}
  },
  {
   "source": [
    "## Métodos de codificación"
   ],
   "cell_type": "markdown",
   "metadata": {}
  },
  {
   "source": [
    "### Codificación binaria"
   ],
   "cell_type": "markdown",
   "metadata": {}
  },
  {
   "cell_type": "code",
   "execution_count": 113,
   "metadata": {},
   "outputs": [],
   "source": [
    "def int2bin(entero,param={\"numbits\":10}):\n",
    "  #print(param[\"numbits\"])\n",
    "  code=\"{0:0\"+str(param[\"numbits\"])+\"b}\"\n",
    "  Xbin=code.format(int(round(entero)))\n",
    "  return Xbin\n",
    "\n",
    "def bin2int(Binario,param=False):\n",
    "  entero=int(Binario, 2)\n",
    "  return entero"
   ]
  },
  {
   "cell_type": "code",
   "execution_count": null,
   "metadata": {},
   "outputs": [],
   "source": [
    "Binario=int2bin(6,param={\"numbits\":10})\n",
    "print(Binario)\n",
    "bin2int(Binario)"
   ]
  },
  {
   "source": [
    "### Codificación para binaria de numeros reales"
   ],
   "cell_type": "markdown",
   "metadata": {}
  },
  {
   "cell_type": "code",
   "execution_count": null,
   "metadata": {},
   "outputs": [],
   "source": [
    "def BinaryPrecision(Xu,Xl,e):\n",
    "  n=math.log2((Xu-Xl)/e)\n",
    "  return int(n)\n",
    "\n",
    "def Binary2Real(Xu,Xl,n,Xbin):\n",
    "  Xbin=int(Xbin, 2)\n",
    "  Value=Xl+((Xu-Xl)/((2**n)-1))*Xbin\n",
    "  return Value\n",
    "\n",
    "def Real2Binary(Xu,Xl,n,Value):\n",
    "  Xbin=(Value-Xl)/((Xu-Xl)/((2**n)-1))\n",
    "  code=\"{0:0\"+str(n)+\"b}\"\n",
    "  Xbin=code.format(int(round(Xbin)))\n",
    "  return Xbin\n",
    "\n",
    "def codeBinary2Real(Xbin, param={\"Xu\":0,\"Xl\":0,\"n\":0}):\n",
    "  Xbin=int(Xbin, 2)\n",
    "  Value=param[\"Xl\"]+((param[\"Xu\"]-param[\"Xl\"])/((2**param[\"n\"])-1))*Xbin\n",
    "  return [Value]\n",
    "\n",
    "def codepoblacionReal2bin(poblacion,limits):\n",
    "  code=list()\n",
    "  preV=list()\n",
    "  for parameter in limits:\n",
    "    preV.append(BinaryPrecision(parameter[0],parameter[1],parameter[2]))\n",
    "  for individuo in poblacion:\n",
    "    indcode=\"\"\n",
    "    for index,parameter in enumerate(individuo):\n",
    "      indcode=indcode+Real2Binary(limits[index][0],limits[index][1],preV[index],parameter)\n",
    "    code.append(indcode)\n",
    "  return code,preV"
   ]
  },
  {
   "source": [
    "### Decodificador"
   ],
   "cell_type": "markdown",
   "metadata": {}
  },
  {
   "cell_type": "code",
   "execution_count": null,
   "metadata": {},
   "outputs": [],
   "source": [
    "def decodificador(population,code,codeParam=False):  \n",
    "  aptitud=list()\n",
    "  for individuo in population:\n",
    "    aptitud.append(code(individuo,codeParam))\n",
    "    \n",
    "  return aptitud"
   ]
  },
  {
   "source": [
    "## Calculo de aptitud"
   ],
   "cell_type": "markdown",
   "metadata": {}
  },
  {
   "cell_type": "code",
   "execution_count": null,
   "metadata": {},
   "outputs": [],
   "source": [
    "def AptitudProporcional(objective,population,code,codeParam=False,case=\"minimo\"):   \n",
    "  aptitud=list()\n",
    "  for individuo in population:\n",
    "    if case == \"minimo\":\n",
    "      aptitud.append(1/objective(code(individuo,codeParam)))\n",
    "    elif case == \"maximo\":\n",
    "      aptitud.append(objective(code(individuo,codeParam)))\n",
    "    else:\n",
    "      aptitud.append(1/objective(code(individuo,codeParam)))\n",
    "  fS=sum(aptitud)\n",
    "  prob=list()\n",
    "  for app in aptitud:\n",
    "    prob.append(float(app/fS))\n",
    "  return aptitud,prob"
   ]
  },
  {
   "source": [
    "## Selección"
   ],
   "cell_type": "markdown",
   "metadata": {}
  },
  {
   "source": [
    "## Cruza"
   ],
   "cell_type": "markdown",
   "metadata": {}
  },
  {
   "source": [],
   "cell_type": "markdown",
   "metadata": {}
  },
  {
   "source": [
    "### Algoritmo Genetico ensamblado"
   ],
   "cell_type": "markdown",
   "metadata": {}
  },
  {
   "source": [
    "## Problema del área mínima de una caja de volumen fijo DE"
   ],
   "cell_type": "markdown",
   "metadata": {}
  },
  {
   "cell_type": "code",
   "execution_count": 114,
   "metadata": {},
   "outputs": [],
   "source": [
    "def prob_caja_volumen_restringido(Parametros):\n",
    "  '''Este modelo calcula el área de un prisma cuadrado con un volumen fijo \n",
    "  de 216 milímetros '''\n",
    "  #definición de los objetivos\n",
    "  x=Symbol('x')\n",
    "  A=(864.0/x)+x**2.0\n",
    "  objetivo=A.subs([[x,Parametros[0]]])\n",
    "  \n",
    "  return objetivo"
   ]
  },
  {
   "cell_type": "code",
   "execution_count": 115,
   "metadata": {},
   "outputs": [
    {
     "output_type": "execute_result",
     "data": {
      "text/plain": [
       "zoo"
      ],
      "text/latex": "$\\displaystyle \\tilde{\\infty}$"
     },
     "metadata": {},
     "execution_count": 115
    }
   ],
   "source": [
    "prob_caja_volumen_restringido([0])"
   ]
  },
  {
   "source": [],
   "cell_type": "markdown",
   "metadata": {}
  },
  {
   "source": [
    "## Plan de inversión DE"
   ],
   "cell_type": "markdown",
   "metadata": {}
  },
  {
   "cell_type": "code",
   "execution_count": 118,
   "metadata": {},
   "outputs": [],
   "source": [
    "def planDeInversion(Parametros):\n",
    "  '''Este modelo cálcula el retorno de un plan de inversión'''\n",
    "  x=Symbol('x')\n",
    "  A=(-(.001*x**2)) + (0.4*x) + (3.5) \n",
    "  objetivo=A.subs([[x,Parametros[0]]])\n",
    "  \n",
    "  return objetivo"
   ]
  },
  {
   "cell_type": "code",
   "execution_count": 119,
   "metadata": {},
   "outputs": [
    {
     "output_type": "execute_result",
     "data": {
      "text/plain": [
       "43.5000000000000"
      ],
      "text/latex": "$\\displaystyle 43.5$"
     },
     "metadata": {},
     "execution_count": 119
    }
   ],
   "source": [
    "planDeInversion([200])"
   ]
  },
  {
   "source": [
    "## Cuadrados DE"
   ],
   "cell_type": "markdown",
   "metadata": {}
  },
  {
   "cell_type": "code",
   "execution_count": 121,
   "metadata": {},
   "outputs": [],
   "source": [
    "def cuadrados(Parametros):\n",
    "  '''Este modelo cálcula el área de un cuadrado tomando como base un hilo de 140cm'''\n",
    "\n",
    "  x=Symbol('x')\n",
    "  A=(((7)*(x**2))-(420*x)+9800)/8\n",
    "  objetivo=A.subs([[x,Parametros[0]]])\n",
    "  \n",
    "  return objetivo"
   ]
  },
  {
   "cell_type": "code",
   "execution_count": 122,
   "metadata": {},
   "outputs": [
    {
     "output_type": "execute_result",
     "data": {
      "text/plain": [
       "441"
      ],
      "text/latex": "$\\displaystyle 441$"
     },
     "metadata": {},
     "execution_count": 122
    }
   ],
   "source": [
    "cuadrados([28])"
   ]
  },
  {
   "source": [
    "## Canaleta DE"
   ],
   "cell_type": "markdown",
   "metadata": {}
  },
  {
   "cell_type": "code",
   "execution_count": 124,
   "metadata": {},
   "outputs": [],
   "source": [
    "def canaleta(Parametros):\n",
    "  '''Este modelo el área de una canaleta con una lamina de 30 cm como base'''\n",
    "\n",
    "  x=Symbol('x')\n",
    "  A=(5*(20+20*cos(x))*sin(x))\n",
    "  objetivo=A.subs([[x,Parametros[0]]])\n",
    "  \n",
    "  return objetivo"
   ]
  },
  {
   "cell_type": "code",
   "execution_count": 125,
   "metadata": {},
   "outputs": [
    {
     "output_type": "execute_result",
     "data": {
      "text/plain": [
       "129.903810567666"
      ],
      "text/latex": "$\\displaystyle 129.903810567666$"
     },
     "metadata": {},
     "execution_count": 125
    }
   ],
   "source": [
    "canaleta([math.pi/3])"
   ]
  }
 ]
}